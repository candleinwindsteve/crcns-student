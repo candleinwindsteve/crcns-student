{
 "cells": [
  {
   "cell_type": "markdown",
   "metadata": {},
   "source": [
    "# Neural data analysis in python\n",
    "These notebooks are a collection of tutorials that cover neural data analysis using tools in the Python ecosystem. Python is an open-source, community-driven, and free language that is used across many fields in and out of science. It is the [most used language](http://www.kdnuggets.com/2017/01/most-popular-language-machine-learning-data-science.html) for data analytics.\n",
    "\n",
    "There is a growing ecosystem of tools that are helpful for neural data analysis in python. Some of these tools are used in this collection of notebooks, though it doesn't cover them all by a longshot. Here is a quick breakdown of the packages we use here:\n",
    "\n",
    "## General data analysis packages\n",
    "* [pandas](http://pandas.pydata.org/) - A package that provides tools for tabular data analysis (similar to DataFrames in R). This is extremely useful for quickly slicing / dicing data the way that you want, and fits nicely into a \"[tidy data](http://vita.had.co.nz/papers/tidy-data.html)\" workflow.\n",
    "* [matplotlib](http://matplotlib.org) - The best option for publication-ready data visualization in Python. It can be a bit complex at times, but is incredibly flexible in getting exactly the look and feel that you want in a plot.\n",
    "* [numpy](http://www.numpy.org/) - Provides a lot of the low-level infrastructure that allows for linear algebra and other matrix operations in Python. This is the foundation for numerical computing that almost all other python packages rest on top of.\n",
    "* [scipy](https://www.scipy.org/) - Provides higher-level tools for doing specific scientific analyses. There is some overlap here with numpy, but you can think of this as doing generally more complicated stuff than you'd want to do with a low-level linear algebra library like numpy.\n",
    "\n",
    "## Neuroscience / Signal processing packages\n",
    "* [MNE-python](https://www.martinos.org/mne/stable/index.html) - a package for electrophysiology analysis, visualization, and storage. This package was optimized for EEG and MEG.  It is very useful for doing anything with timeseries data obtained from many electrodes.\n",
    "* [soundsig](https://github.com/theunissenlab/soundsig) - A package with tools and functions for doing signal analysis and natural sound statistics. It is maintained by the Theunissen lab.\n",
    "* [neo](http://neuralensemble.org/neo/) - a package to represent electrophysiological data that has been optimized for multi-channel recordings of single units (tetrodes, electrode arrays).  It does not have many post-processing analysis but interfaces well with other packages.\n",
    "* [nwb](https://crcns.org/NWB/Overview) (Neural data Without Borders) - The package beeing developped to represent all types of neurophysiological data including images.\n",
    "\n",
    "# Getting started\n",
    "The following sections make sure that you're up-and-running with this codebase\n",
    "\n",
    "## Notebooks in this repository\n",
    "Below are the notebooks contained in this repository. Click any of the links below to view them.\n",
    "\n",
    "* [exercise-direct_fit.ipynb](exercise-direct_fit.ipynb)\n",
    "* [exercise-gradient_descent.ipynb](exercise-gradient_descent.ipynb)\n",
    "* [exercise-logistic_regression.ipynb](exercise-logistic_regression.ipynb)\n",
    "* [tutorial-coherence.ipynb](tutorial-coherence.ipynb)\n",
    "\n",
    "## Downloading data\n",
    "Before you start using these materials, make sure that you download the data for the course. You can do that by running the python function one folder above this one. Simply run the following line:\n",
    "\n",
    "> Note: this might take a few minutes as the data is downloaded..."
   ]
  },
  {
   "cell_type": "code",
   "execution_count": 5,
   "metadata": {
    "collapsed": true
   },
   "outputs": [],
   "source": [
    "!python ../download_data.py"
   ]
  },
  {
   "cell_type": "markdown",
   "metadata": {},
   "source": [
    "## Test that you have the right packages installed"
   ]
  },
  {
   "cell_type": "code",
   "execution_count": 1,
   "metadata": {
    "collapsed": true
   },
   "outputs": [],
   "source": [
    "import numpy\n",
    "import matplotlib\n",
    "import pandas\n",
    "import scipy\n",
    "import skimage\n",
    "import sklearn\n",
    "import librosa\n",
    "\n",
    "# Neuro stuff\n",
    "import mne\n",
    "import mnespikes\n",
    "# import soundsig  # This will only work on python 2.7\n",
    "\n",
    "# Utilities\n",
    "import download\n",
    "import nbgrader\n",
    "import tqdm"
   ]
  },
  {
   "cell_type": "markdown",
   "metadata": {},
   "source": [
    "## Installing packages (if you're working on your own computer)\n",
    "To make sure that you've got all the right packages installed, it's easiest to use a package manager to handle installation / downloading / upgrading / etc. The easiest way to do this is with the [Anaconda distribution](https://www.continuum.io/downloads).\n",
    "\n",
    "Click the link above and download / install Anaconda. This comes with its own version of python, a few pre-installed packages, and a set of tools to easily download and upgrade packages.\n",
    "\n",
    "Anaconda uses virtual environments to handle which packages are active. This makes it possible to know *exactly* which versions of a package you're using. You can create the environment necessary for this class by running the following command:"
   ]
  },
  {
   "cell_type": "code",
   "execution_count": 3,
   "metadata": {
    "collapsed": true
   },
   "outputs": [],
   "source": [
    "!conda env create -f ../environment.yml"
   ]
  },
  {
   "cell_type": "markdown",
   "metadata": {},
   "source": [
    "This will create a new anaconda with the necessary packages installed (we've configured that `yml` file to specify the things needed for the course).\n",
    "\n",
    "Then type the following command to activate this environment:"
   ]
  },
  {
   "cell_type": "code",
   "execution_count": null,
   "metadata": {
    "collapsed": true
   },
   "outputs": [],
   "source": [
    "!source activate crcns-python"
   ]
  },
  {
   "cell_type": "markdown",
   "metadata": {
    "collapsed": true
   },
   "source": [
    "Alternatively you can look for the files inside of `environment.yml` and install them manually with either\n",
    "\n",
    "`conda install <packagename>`\n",
    "\n",
    "or\n",
    "\n",
    "`pip install <packagename>`"
   ]
  },
  {
   "cell_type": "code",
   "execution_count": null,
   "metadata": {
    "collapsed": true
   },
   "outputs": [],
   "source": []
  }
 ],
 "metadata": {
  "kernelspec": {
   "display_name": "Python 3",
   "language": "python",
   "name": "python3"
  },
  "language_info": {
   "codemirror_mode": {
    "name": "ipython",
    "version": 3
   },
   "file_extension": ".py",
   "mimetype": "text/x-python",
   "name": "python",
   "nbconvert_exporter": "python",
   "pygments_lexer": "ipython3",
   "version": "3.6.1"
  }
 },
 "nbformat": 4,
 "nbformat_minor": 2
}
